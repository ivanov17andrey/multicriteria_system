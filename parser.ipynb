{
 "cells": [
  {
   "cell_type": "code",
   "execution_count": 96,
   "metadata": {
    "collapsed": true,
    "pycharm": {
     "name": "#%%\n"
    }
   },
   "outputs": [],
   "source": [
    "import requests\n",
    "from bs4 import BeautifulSoup\n",
    "from selenium import webdriver\n",
    "import os\n",
    "from selenium.webdriver.chrome.options import Options\n",
    "from selenium.webdriver.common.by import By\n",
    "from selenium.common.exceptions import NoSuchElementException\n",
    "import psycopg2\n",
    "from psycopg2 import sql\n",
    "from urllib.parse import urlparse\n",
    "from urllib.parse import parse_qs\n",
    "from urllib.parse import urlencode\n",
    "import time\n",
    "import random\n",
    "import re"
   ]
  },
  {
   "cell_type": "code",
   "execution_count": 114,
   "outputs": [],
   "source": [
    "SITE_CFG = {\n",
    "    'origin': 'https://market.yandex.ru',\n",
    "    'url': 'https://market.yandex.ru/catalog--kvadrokoptery/18042097/list',\n",
    "    'params': {'glfilter': '23674510%3A2~4000',\n",
    "               'hid': '12410815',\n",
    "               'pricefrom': '1',\n",
    "               'onstock': '0',\n",
    "               'qrfrom': '2',\n",
    "               'local-offers-first': '0',\n",
    "               'viewtype': 'list'}\n",
    "}\n",
    "\n",
    "DB_CFG = {\n",
    "    'dbname': 'diploma',\n",
    "    'user': 'diploma',\n",
    "    'password': 'diploma',\n",
    "    'host': 'localhost'\n",
    "}\n",
    "PROPS = {\n",
    "    'search_links_class': '_24Q6d',  #'2f75n'\n",
    "    'next_page_class': '_3OFYT'\n",
    "}\n",
    "\n",
    "DRIVER = webdriver.Chrome(executable_path='/Users/17dzat/chromedriver', options=Options())"
   ],
   "metadata": {
    "collapsed": false,
    "pycharm": {
     "name": "#%%\n"
    }
   }
  },
  {
   "cell_type": "code",
   "execution_count": 167,
   "outputs": [],
   "source": [
    "class Parser:\n",
    "\n",
    "    def __init__(self, driver, site_cfg, db_cfg):\n",
    "        self.driver = driver\n",
    "        self.site_cfg = site_cfg\n",
    "        self.db_cfg = db_cfg\n",
    "        self.driver = self.init_driver()\n",
    "        self.links = []\n",
    "        self.helicopters = []\n",
    "\n",
    "    def parse_links(self):\n",
    "        self.links = []\n",
    "        page = 1\n",
    "        while True:\n",
    "            page_params = {**self.site_cfg['params'], **{'page': page}}\n",
    "            page_url = f\"{self.site_cfg['url']}?{urlencode(page_params)}\"\n",
    "            self.driver.get(page_url)\n",
    "            page += 1\n",
    "\n",
    "            search_links = self.driver.find_elements(by=By.CLASS_NAME, value=PROPS['search_links_class'])\n",
    "            for x in search_links:\n",
    "                self.links.append(x.get_attribute('href'))\n",
    "\n",
    "            try:\n",
    "                self.driver.find_element(by=By.CSS_SELECTOR,\n",
    "                                         value=f\"a.{PROPS['next_page_class']}[aria-label='Следующая страница']\")\n",
    "\n",
    "                time.sleep(random.randrange(2, 6))\n",
    "\n",
    "            except NoSuchElementException:\n",
    "                break\n",
    "\n",
    "    def save_links(self):\n",
    "        conn = psycopg2.connect(**self.db_cfg)\n",
    "        with conn.cursor() as cursor:\n",
    "            conn.autocommit = True\n",
    "            l = [(x,) for x in self.links]\n",
    "            insert = sql.SQL('INSERT INTO links (link) VALUES {}').format(\n",
    "                sql.SQL(',').join(map(sql.Literal, l))\n",
    "            )\n",
    "            cursor.execute(insert)\n",
    "\n",
    "    def delete_link(self, link_id):\n",
    "        conn = psycopg2.connect(**self.db_cfg)\n",
    "        with conn.cursor() as cursor:\n",
    "            conn.autocommit = True\n",
    "\n",
    "            delete = \"\"\"Delete\n",
    "                        From links\n",
    "                        WHERE id = %s\"\"\"\n",
    "\n",
    "            cursor.execute(delete, (link_id,))\n",
    "\n",
    "    def get_not_processed_links(self):\n",
    "        conn = psycopg2.connect(**self.db_cfg)\n",
    "        cursor = conn.cursor()\n",
    "\n",
    "        cursor.execute('SELECT id, link FROM links WHERE processed = FALSE')\n",
    "        return cursor.fetchall()\n",
    "\n",
    "    def save_helicopter(self, h, link_id):\n",
    "        conn = psycopg2.connect(**self.db_cfg)\n",
    "        with conn.cursor() as cursor:\n",
    "            conn.autocommit = True\n",
    "            helicopter = (\n",
    "                h['name'], h['weight'], h['duration'], h['distance'], h['height'], h['speed'], h['pixels'], h['fps'],\n",
    "                h['rating'],\n",
    "                h['price'],\n",
    "                link_id)\n",
    "            insert = sql.SQL(\n",
    "                'INSERT INTO helicopters (name, weight, duration, distance, height, speed, pixels, fps, rating, price, link_id) VALUES {}').format(\n",
    "                sql.Literal(helicopter)\n",
    "            )\n",
    "            cursor.execute(insert)\n",
    "\n",
    "            update = \"\"\"UPDATE links\n",
    "                SET processed = %s\n",
    "                WHERE id = %s\"\"\"\n",
    "\n",
    "            cursor.execute(update, (True, link_id))\n",
    "\n",
    "    def get_helicopters(self):\n",
    "        links = self.get_not_processed_links()\n",
    "        for link in links:\n",
    "            link_id = link[0]\n",
    "            url = link[1]\n",
    "            self.driver.get(url)\n",
    "            time.sleep(random.randrange(3,5))\n",
    "            h = {}\n",
    "            h['name'] = self.driver.find_element(by=By.CSS_SELECTOR, value='h1._1BWd_').text\n",
    "            try:\n",
    "                rtng = self.driver.find_element(by=By.CSS_SELECTOR, value='span._2v4E8')\n",
    "            except:\n",
    "                self.delete_link(link_id)\n",
    "                continue\n",
    "            h['rating'] = rtng.text or rtng.get_attribute('textContent')\n",
    "            h['price'] = int(''.join(\n",
    "                self.driver.find_element(by=By.CSS_SELECTOR, value='div._3NaXx._3kWlK > span > span').get_attribute(\n",
    "                    'textContent').split(\n",
    "                    ' ')))\n",
    "\n",
    "            h['props'] = {}\n",
    "            for el in self.driver.find_elements(by=By.CSS_SELECTOR, value='table.Ksay3 > tbody > tr._2oLGf'):\n",
    "                row_name = el.find_element(by=By.CSS_SELECTOR, value='td._2trXG').get_attribute('textContent')\n",
    "                h['props'][row_name] = el.find_element(by=By.CSS_SELECTOR, value='td._3M0mF').get_attribute(\n",
    "                    'textContent')\n",
    "\n",
    "            if h['props'].get('полет'):\n",
    "                flight = h['props']['полет']\n",
    "                try:\n",
    "                    h['duration'] = int(re.findall(r\"(\\d+)\\s*мин\", flight)[0])\n",
    "                except:\n",
    "                    h['duration'] = 15\n",
    "                try:\n",
    "                    h['distance'] = int(re.findall(r\"дальность полета\\s*(\\d+)\\s*м\", flight)[0])\n",
    "                except:\n",
    "                    h['distance'] = 50\n",
    "                try:\n",
    "                    h['height'] = int(re.findall(r\"высота\\s*(\\d+)\\s*м\", flight)[0])\n",
    "                except:\n",
    "                    h['height'] = h['distance']\n",
    "                try:\n",
    "                    h['speed'] = int(re.findall(r\"скорость\\s*(\\d+)\\s*м/с\", flight)[0])\n",
    "                except:\n",
    "                    h['speed'] = 1\n",
    "\n",
    "            if h['props'].get('видео'):\n",
    "                videos = h['props']['видео'].split(',')\n",
    "                specs = []\n",
    "                for spec in videos:\n",
    "                    only_pixels = re.findall(r\"(\\d+)p\", spec)\n",
    "                    only_k = re.findall(r\"(\\d+)K\", spec)\n",
    "                    pixels_multi = re.findall(r\"(\\d{2,5})x(\\d{2,5})\", spec)\n",
    "                    # fps_with_p = re.match(r\"\\s*(?P<fps>\\d+)\\s*к/с.+?(?P<pixels>\\d+)p\\s*\", spec)\n",
    "                    # fps_with_k = re.match(r\"\\s*(?P<fps>\\d+)\\s*к/с.+?(?P<k>\\d+)K\\s*\", spec)\n",
    "                    fps = re.findall(r\"\\s*(\\d+)\\s*к/с\", spec)\n",
    "                    if len(fps) > 0:\n",
    "                        fps_val = int(fps[0])\n",
    "                        if len(only_pixels) > 0:\n",
    "                            specs.append({'pixels': int(only_pixels[0]), 'fps': fps_val})\n",
    "                        elif len(only_k) > 0:\n",
    "                            specs.append({'pixels': int(int(only_k[0]) / 2 * 1024), 'fps': fps_val})\n",
    "                        elif len(pixels_multi) > 0:\n",
    "                            specs.append({'pixels': int(pixels_multi[0][1]), 'fps': fps_val})\n",
    "                    else:\n",
    "                        if len(only_pixels) > 0:\n",
    "                            specs.append({'pixels': int(only_pixels[0]), 'fps': 30})\n",
    "                        elif len(only_k) > 0:\n",
    "                            specs.append({'pixels': int(int(only_k[0]) / 2 * 1024), 'fps': 30})\n",
    "                        elif len(pixels_multi) > 0:\n",
    "                            specs.append({'pixels': int(pixels_multi[0][1]), 'fps': 30})\n",
    "\n",
    "                with_max_fps = max(specs, key=lambda x: x['fps'])\n",
    "                h['fps'] = with_max_fps['fps']\n",
    "                h['pixels'] = with_max_fps['pixels']\n",
    "            else:\n",
    "                self.delete_link(link_id)\n",
    "                continue\n",
    "\n",
    "            if h['props'].get('вес'):\n",
    "                h['weight'] = int(re.findall(r\"(\\d+)\\s*г\", h['props'].get('вес'))[0])\n",
    "\n",
    "            self.save_helicopter(h, link_id)"
   ],
   "metadata": {
    "collapsed": false,
    "pycharm": {
     "name": "#%%\n"
    }
   }
  },
  {
   "cell_type": "code",
   "execution_count": 168,
   "outputs": [
    {
     "name": "stderr",
     "output_type": "stream",
     "text": [
      "/var/folders/23/hzkz91rj3pq502cfq0_65r0c0000gn/T/ipykernel_91015/1238021097.py:11: DeprecationWarning: executable_path has been deprecated, please pass in a Service object\n",
      "  return webdriver.Chrome(executable_path='/Users/17dzat/chromedriver', options=Options())\n"
     ]
    }
   ],
   "source": [
    "parser = Parser(DRIVER, SITE_CFG, DB_CFG)"
   ],
   "metadata": {
    "collapsed": false,
    "pycharm": {
     "name": "#%%\n"
    }
   }
  },
  {
   "cell_type": "code",
   "execution_count": 174,
   "outputs": [],
   "source": [
    "parser.get_helicopters()"
   ],
   "metadata": {
    "collapsed": false,
    "pycharm": {
     "name": "#%%\n"
    }
   }
  },
  {
   "cell_type": "code",
   "execution_count": 110,
   "outputs": [],
   "source": [
    "conn = psycopg2.connect(**DB_CFG)\n",
    "cursor = conn.cursor()\n",
    "\n",
    "cursor.execute('SELECT id, link FROM links')\n",
    "links = cursor.fetchall()"
   ],
   "metadata": {
    "collapsed": false,
    "pycharm": {
     "name": "#%%\n"
    }
   }
  },
  {
   "cell_type": "code",
   "execution_count": 99,
   "outputs": [],
   "source": [
    "driver.get(links[0][0])"
   ],
   "metadata": {
    "collapsed": false,
    "pycharm": {
     "name": "#%%\n"
    }
   }
  },
  {
   "cell_type": "code",
   "execution_count": 100,
   "outputs": [],
   "source": [
    "# time.sleep(5)\n",
    "h = {}\n",
    "h['name'] = driver.find_element(by=By.CSS_SELECTOR, value='h1._1BWd_').text\n",
    "rtng = driver.find_element(by=By.CSS_SELECTOR, value='span._2v4E8')\n",
    "h['rating'] = rtng.text or rtng.get_attribute('textContent')\n",
    "h['price'] = int(''.join(\n",
    "    driver.find_element(by=By.CSS_SELECTOR, value='div._3NaXx._3kWlK > span > span').get_attribute('textContent').split(\n",
    "        ' ')))\n",
    "\n",
    "h['props'] = {}\n",
    "for el in driver.find_elements(by=By.CSS_SELECTOR, value='table.Ksay3 > tbody > tr._2oLGf'):\n",
    "    row_name = el.find_element(by=By.CSS_SELECTOR, value='td._2trXG').get_attribute('textContent')\n",
    "    h['props'][row_name] = el.find_element(by=By.CSS_SELECTOR, value='td._3M0mF').get_attribute('textContent')\n",
    "\n",
    "if h['props'].get('полет'):\n",
    "    flight = h['props']['полет']\n",
    "    try:\n",
    "        h['duration'] = int(re.findall(r\"(\\d+)\\s*мин\", flight)[0])\n",
    "    except:\n",
    "        h['duration'] = 15\n",
    "    try:\n",
    "        h['distance'] = int(re.findall(r\"дальность полета\\s*(\\d+)\\s*м\", flight)[0])\n",
    "    except:\n",
    "        h['distance'] = 50\n",
    "    try:\n",
    "        h['height'] = int(re.findall(r\"высота\\s*(\\d+)\\s*м\", flight)[0])\n",
    "    except:\n",
    "        h['height'] = h['distance']\n",
    "    try:\n",
    "        h['speed'] = int(re.findall(r\"скорость\\s*(\\d+)\\s*м/с\", flight)[0])\n",
    "    except:\n",
    "        h['speed'] = 1\n",
    "\n",
    "if h['props'].get('видео'):\n",
    "    videos = h['props']['видео'].split(',')\n",
    "    specs = []\n",
    "    for spec in videos:\n",
    "        only_pixels = re.findall(r\"(\\d+)p\", spec)\n",
    "        only_k = re.findall(r\"(\\d+)K\", spec)\n",
    "        pixels_multi = re.findall(r\"(\\d{2,5})x(\\d{2,5})\", spec)\n",
    "        # fps_with_p = re.match(r\"\\s*(?P<fps>\\d+)\\s*к/с.+?(?P<pixels>\\d+)p\\s*\", spec)\n",
    "        # fps_with_k = re.match(r\"\\s*(?P<fps>\\d+)\\s*к/с.+?(?P<k>\\d+)K\\s*\", spec)\n",
    "        fps = re.findall(r\"\\s*(\\d+)\\s*к/с\", spec)\n",
    "        if len(fps) > 0:\n",
    "            fps_val = int(fps[0])\n",
    "            if len(only_pixels) > 0:\n",
    "                specs.append({'pixels': int(only_pixels[0]), 'fps': fps_val})\n",
    "            elif len(only_k) > 0:\n",
    "                specs.append({'pixels': int(int(only_k[0]) / 2 * 1024), 'fps': fps_val})\n",
    "            elif len(pixels_multi) > 0:\n",
    "                specs.append({'pixels': int(pixels_multi[0][1]), 'fps': fps_val})\n",
    "        else:\n",
    "            if len(only_pixels) > 0:\n",
    "                specs.append({'pixels': int(only_pixels[0]), 'fps': 30})\n",
    "            elif len(only_k) > 0:\n",
    "                specs.append({'pixels': int(int(only_k[0]) / 2 * 1024), 'fps': 30})\n",
    "            elif len(pixels_multi) > 0:\n",
    "                specs.append({'pixels': int(pixels_multi[0][1]), 'fps': 30})\n",
    "\n",
    "    with_max_fps = max(specs, key=lambda x: x['fps'])\n",
    "    h['fps'] = with_max_fps['fps']\n",
    "    h['pixels'] = with_max_fps['pixels']\n",
    "\n",
    "if h['props'].get('вес'):\n",
    "    h['weight'] = int(re.findall(r\"(\\d+)\\s*г\", h['props'].get('вес'))[0])"
   ],
   "metadata": {
    "collapsed": false,
    "pycharm": {
     "name": "#%%\n"
    }
   }
  },
  {
   "cell_type": "code",
   "execution_count": 156,
   "outputs": [
    {
     "ename": "TypeError",
     "evalue": "'int' object does not support indexing",
     "output_type": "error",
     "traceback": [
      "\u001B[0;31m---------------------------------------------------------------------------\u001B[0m",
      "\u001B[0;31mTypeError\u001B[0m                                 Traceback (most recent call last)",
      "\u001B[0;32m/var/folders/23/hzkz91rj3pq502cfq0_65r0c0000gn/T/ipykernel_91015/3172410764.py\u001B[0m in \u001B[0;36m<module>\u001B[0;34m\u001B[0m\n\u001B[1;32m      7\u001B[0m                 WHERE id = %s\"\"\"\n\u001B[1;32m      8\u001B[0m \u001B[0;34m\u001B[0m\u001B[0m\n\u001B[0;32m----> 9\u001B[0;31m     \u001B[0mcursor\u001B[0m\u001B[0;34m.\u001B[0m\u001B[0mexecute\u001B[0m\u001B[0;34m(\u001B[0m\u001B[0mdelete\u001B[0m\u001B[0;34m,\u001B[0m \u001B[0;34m(\u001B[0m\u001B[0;36m46\u001B[0m\u001B[0;34m)\u001B[0m\u001B[0;34m)\u001B[0m\u001B[0;34m\u001B[0m\u001B[0;34m\u001B[0m\u001B[0m\n\u001B[0m",
      "\u001B[0;31mTypeError\u001B[0m: 'int' object does not support indexing"
     ]
    }
   ],
   "source": [
    "conn = psycopg2.connect(**DB_CFG)\n",
    "with conn.cursor() as cursor:\n",
    "    conn.autocommit = True\n",
    "\n",
    "    delete = \"\"\"Delete\n",
    "                From links\n",
    "                WHERE id = %s\"\"\"\n",
    "\n",
    "    cursor.execute(delete, (46))"
   ],
   "metadata": {
    "collapsed": false,
    "pycharm": {
     "name": "#%%\n"
    }
   }
  }
 ],
 "metadata": {
  "kernelspec": {
   "display_name": "Python 3",
   "language": "python",
   "name": "python3"
  },
  "language_info": {
   "codemirror_mode": {
    "name": "ipython",
    "version": 2
   },
   "file_extension": ".py",
   "mimetype": "text/x-python",
   "name": "python",
   "nbconvert_exporter": "python",
   "pygments_lexer": "ipython2",
   "version": "2.7.6"
  }
 },
 "nbformat": 4,
 "nbformat_minor": 0
}