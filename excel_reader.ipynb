{
 "cells": [
  {
   "cell_type": "code",
   "execution_count": 1,
   "metadata": {
    "collapsed": true,
    "pycharm": {
     "name": "#%%\n"
    }
   },
   "outputs": [],
   "source": [
    "import numpy as np\n",
    "import xlsxwriter\n",
    "import pandas as pd"
   ]
  },
  {
   "cell_type": "code",
   "execution_count": 6,
   "outputs": [],
   "source": [
    "filename = 'input20220509184836.xlsx'"
   ],
   "metadata": {
    "collapsed": false,
    "pycharm": {
     "name": "#%%\n"
    }
   }
  },
  {
   "cell_type": "code",
   "execution_count": 8,
   "outputs": [],
   "source": [
    "df_helicopters = pd.read_excel(f'ruby/public/uploads/{filename}', sheet_name=0)"
   ],
   "metadata": {
    "collapsed": false,
    "pycharm": {
     "name": "#%%\n"
    }
   }
  },
  {
   "cell_type": "code",
   "execution_count": 10,
   "outputs": [],
   "source": [
    "criteria_temp = pd.read_excel(f'ruby/public/uploads/{filename}', sheet_name=1)"
   ],
   "metadata": {
    "collapsed": false,
    "pycharm": {
     "name": "#%%\n"
    }
   }
  },
  {
   "cell_type": "code",
   "execution_count": 16,
   "outputs": [],
   "source": [
    "df_criteria = pd.DataFrame(criteria_temp.to_numpy().T, columns=['name', 'coefficients', 'direction'])"
   ],
   "metadata": {
    "collapsed": false,
    "pycharm": {
     "name": "#%%\n"
    }
   }
  },
  {
   "cell_type": "code",
   "execution_count": 18,
   "outputs": [],
   "source": [
    "df_criteria.insert(0, 'num', [x +1 for x in range(len(df_criteria))])"
   ],
   "metadata": {
    "collapsed": false,
    "pycharm": {
     "name": "#%%\n"
    }
   }
  },
  {
   "cell_type": "code",
   "execution_count": 19,
   "outputs": [
    {
     "data": {
      "text/plain": "   num          name coefficients direction\n0    1           Веc            1       min\n1    2  Время полета            1       max\n2    3     Дальность            2       max\n3    4        Высота            1       max\n4    5      Скорость            1       max\n5    6    Разрешение            1       max\n6    7           FPS            2       max\n7    8       Рейтинг            1       max\n8    9     Стоимость            2       min",
      "text/html": "<div>\n<style scoped>\n    .dataframe tbody tr th:only-of-type {\n        vertical-align: middle;\n    }\n\n    .dataframe tbody tr th {\n        vertical-align: top;\n    }\n\n    .dataframe thead th {\n        text-align: right;\n    }\n</style>\n<table border=\"1\" class=\"dataframe\">\n  <thead>\n    <tr style=\"text-align: right;\">\n      <th></th>\n      <th>num</th>\n      <th>name</th>\n      <th>coefficients</th>\n      <th>direction</th>\n    </tr>\n  </thead>\n  <tbody>\n    <tr>\n      <th>0</th>\n      <td>1</td>\n      <td>Веc</td>\n      <td>1</td>\n      <td>min</td>\n    </tr>\n    <tr>\n      <th>1</th>\n      <td>2</td>\n      <td>Время полета</td>\n      <td>1</td>\n      <td>max</td>\n    </tr>\n    <tr>\n      <th>2</th>\n      <td>3</td>\n      <td>Дальность</td>\n      <td>2</td>\n      <td>max</td>\n    </tr>\n    <tr>\n      <th>3</th>\n      <td>4</td>\n      <td>Высота</td>\n      <td>1</td>\n      <td>max</td>\n    </tr>\n    <tr>\n      <th>4</th>\n      <td>5</td>\n      <td>Скорость</td>\n      <td>1</td>\n      <td>max</td>\n    </tr>\n    <tr>\n      <th>5</th>\n      <td>6</td>\n      <td>Разрешение</td>\n      <td>1</td>\n      <td>max</td>\n    </tr>\n    <tr>\n      <th>6</th>\n      <td>7</td>\n      <td>FPS</td>\n      <td>2</td>\n      <td>max</td>\n    </tr>\n    <tr>\n      <th>7</th>\n      <td>8</td>\n      <td>Рейтинг</td>\n      <td>1</td>\n      <td>max</td>\n    </tr>\n    <tr>\n      <th>8</th>\n      <td>9</td>\n      <td>Стоимость</td>\n      <td>2</td>\n      <td>min</td>\n    </tr>\n  </tbody>\n</table>\n</div>"
     },
     "execution_count": 19,
     "metadata": {},
     "output_type": "execute_result"
    }
   ],
   "source": [
    "df_criteria"
   ],
   "metadata": {
    "collapsed": false,
    "pycharm": {
     "name": "#%%\n"
    }
   }
  }
 ],
 "metadata": {
  "kernelspec": {
   "display_name": "Python 3",
   "language": "python",
   "name": "python3"
  },
  "language_info": {
   "codemirror_mode": {
    "name": "ipython",
    "version": 2
   },
   "file_extension": ".py",
   "mimetype": "text/x-python",
   "name": "python",
   "nbconvert_exporter": "python",
   "pygments_lexer": "ipython2",
   "version": "2.7.6"
  }
 },
 "nbformat": 4,
 "nbformat_minor": 0
}